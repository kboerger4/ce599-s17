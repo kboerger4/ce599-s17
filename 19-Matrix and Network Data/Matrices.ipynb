{
 "cells": [
  {
   "cell_type": "markdown",
   "metadata": {},
   "source": [
    "## Matrices\n",
    "\n",
    "Matrices are very common in transportation.  Two commont types of matrix data are: \n",
    "\n",
    "trip tables - matrices showing the number of trips between each zone pair\n",
    "\n",
    "skims - matrices showing the travel time and cost between each zone pair\n"
   ]
  },
  {
   "cell_type": "code",
   "execution_count": 1,
   "metadata": {
    "collapsed": false
   },
   "outputs": [
    {
     "data": {
      "text/plain": [
       "[[1, 2, 3], [4, 5, 6], [7, 8, 9]]"
      ]
     },
     "execution_count": 1,
     "metadata": {},
     "output_type": "execute_result"
    }
   ],
   "source": [
    "# you can represent matrices in python as two dimensional lists\n",
    "m = [[1,2,3],[4,5,6],[7,8,9]]\n",
    "m"
   ]
  },
  {
   "cell_type": "code",
   "execution_count": 2,
   "metadata": {
    "collapsed": false
   },
   "outputs": [
    {
     "data": {
      "text/plain": [
       "[[-1, 2, 3], [4, 5, 999], [7, 8, 9]]"
      ]
     },
     "execution_count": 2,
     "metadata": {},
     "output_type": "execute_result"
    }
   ],
   "source": [
    "# change the values by referring to the appropriate indices\n",
    "m[0][0] = -1\n",
    "m[1][2] = 999\n",
    "m"
   ]
  },
  {
   "cell_type": "markdown",
   "metadata": {},
   "source": [
    "### Numpy matrices\n",
    "\n",
    "This is fine, but can be slow if you're working with big matrices.  For those, it is nice to use numpy, which operates way faster.  Their quickstart tutorial offers a good intro: \n",
    "\n",
    "https://docs.scipy.org/doc/numpy-dev/user/quickstart.html"
   ]
  },
  {
   "cell_type": "code",
   "execution_count": 3,
   "metadata": {
    "collapsed": false
   },
   "outputs": [
    {
     "data": {
      "text/plain": [
       "array([[1, 2, 3],\n",
       "       [4, 5, 6],\n",
       "       [7, 8, 9]])"
      ]
     },
     "execution_count": 3,
     "metadata": {},
     "output_type": "execute_result"
    }
   ],
   "source": [
    "import numpy as np\n",
    "m = np.array([[1,2,3],[4,5,6],[7,8,9]])\n",
    "m"
   ]
  },
  {
   "cell_type": "code",
   "execution_count": 4,
   "metadata": {
    "collapsed": false
   },
   "outputs": [
    {
     "data": {
      "text/plain": [
       "array([[ -1,   2,   3],\n",
       "       [  4,   5, 999],\n",
       "       [  7,   8,   9]])"
      ]
     },
     "execution_count": 4,
     "metadata": {},
     "output_type": "execute_result"
    }
   ],
   "source": [
    "# change the values by referring to the appropriate indices\n",
    "m[0][0] = -1\n",
    "m[1][2] = 999\n",
    "m"
   ]
  },
  {
   "cell_type": "code",
   "execution_count": 5,
   "metadata": {
    "collapsed": false
   },
   "outputs": [
    {
     "data": {
      "text/plain": [
       "(3, 3)"
      ]
     },
     "execution_count": 5,
     "metadata": {},
     "output_type": "execute_result"
    }
   ],
   "source": [
    "# Since an array is an object, it comes with some extra data \n",
    "m.shape"
   ]
  },
  {
   "cell_type": "code",
   "execution_count": 6,
   "metadata": {
    "collapsed": false
   },
   "outputs": [
    {
     "data": {
      "text/plain": [
       "999"
      ]
     },
     "execution_count": 6,
     "metadata": {},
     "output_type": "execute_result"
    }
   ],
   "source": [
    "# and some methods\n",
    "m.max()"
   ]
  },
  {
   "cell_type": "markdown",
   "metadata": {},
   "source": [
    "### OMX for matrix i/o\n",
    "\n",
    "For saving groups of matrices to disk, OMX is a useful package.  Intro is here: \n",
    "\n",
    "https://github.com/osPlanning/omx/wiki\n",
    "\n",
    "Python API is here: \n",
    "\n",
    "https://github.com/osPlanning/omx-python\n",
    "\n",
    "Note that we sometimes want row and column indices that are non-sequential integers--the label of the TAZ rather than just a number 1 through N.  I've put an example matrix in the data folder for this lesson.  If you want to look at the contents, you can install the viewer, available on the wiki.  \n"
   ]
  },
  {
   "cell_type": "markdown",
   "metadata": {},
   "source": [
    "### Homework\n",
    "\n",
    "The example is a skim matrix showing different components of travel time between each TAZ pair.  The IVT matrix is for in-vehicle time (as opposed to walking and waiting time which are out-of-vehicle).  Notice that the values on the diagonal are all zeros.  This is the sort of thing that can cause divide by zero errors later on.  Your job is to read the matrix in, replace the zeros on the diagonals with ones, and save the matrix again.  \n",
    "\n",
    "To do this, you will need to install the OMX package and review their quick start sample code to see what to do.  This is good practice in figuring stuff out from the types of resources that may be avaiable, and you should have the skills at this point in the course to do so.\n"
   ]
  },
  {
   "cell_type": "code",
   "execution_count": 7,
   "metadata": {
    "collapsed": true
   },
   "outputs": [],
   "source": [
    "import openmatrix as omx\n",
    "import numpy as np"
   ]
  },
  {
   "cell_type": "code",
   "execution_count": 1,
   "metadata": {
    "collapsed": false
   },
   "outputs": [
    {
     "ename": "SyntaxError",
     "evalue": "(unicode error) 'unicodeescape' codec can't decode bytes in position 2-3: truncated \\UXXXXXXXX escape (<ipython-input-1-06597fe41cc2>, line 1)",
     "output_type": "error",
     "traceback": [
      "\u001b[0;36m  File \u001b[0;32m\"<ipython-input-1-06597fe41cc2>\"\u001b[0;36m, line \u001b[0;32m1\u001b[0m\n\u001b[0;31m    print('C:\\Users\\Kevin\\Documents\\CE 599\\ce599-s17\\19-Matrix and Network Data\\data')\u001b[0m\n\u001b[0m         ^\u001b[0m\n\u001b[0;31mSyntaxError\u001b[0m\u001b[0;31m:\u001b[0m (unicode error) 'unicodeescape' codec can't decode bytes in position 2-3: truncated \\UXXXXXXXX escape\n"
     ]
    }
   ],
   "source": [
    "print('C:\\Users\\Kevin\\Documents\\CE 599\\ce599-s17\\19-Matrix and Network Data\\data')\n",
    "myfile = omx.open_file('example.omx')\n",
    "\n",
    "print ('Shape:', example.shape())               \n",
    "print ('Number of tables:', len(example))         \n",
    "print ('Table names:', example.list_matrices())   "
   ]
  },
  {
   "cell_type": "code",
   "execution_count": null,
   "metadata": {
    "collapsed": true
   },
   "outputs": [],
   "source": []
  }
 ],
 "metadata": {
  "anaconda-cloud": {},
  "kernelspec": {
   "display_name": "Python [conda root]",
   "language": "python",
   "name": "conda-root-py"
  },
  "language_info": {
   "codemirror_mode": {
    "name": "ipython",
    "version": 3
   },
   "file_extension": ".py",
   "mimetype": "text/x-python",
   "name": "python",
   "nbconvert_exporter": "python",
   "pygments_lexer": "ipython3",
   "version": "3.5.2"
  }
 },
 "nbformat": 4,
 "nbformat_minor": 1
}
