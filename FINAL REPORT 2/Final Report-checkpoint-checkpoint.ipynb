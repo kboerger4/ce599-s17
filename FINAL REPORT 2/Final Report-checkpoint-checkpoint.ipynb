{
 "cells": [
  {
   "cell_type": "code",
   "execution_count": 1,
   "metadata": {
    "collapsed": true
   },
   "outputs": [],
   "source": [
    "import requests  \n",
    "import json\n",
    "from pyproj import Proj\n",
    "from shapely.geometry import Point\n",
    "import geopandas as gp\n",
    "import pandas as pd"
   ]
  },
  {
   "cell_type": "code",
   "execution_count": null,
   "metadata": {
    "collapsed": true
   },
   "outputs": [],
   "source": []
  },
  {
   "cell_type": "code",
   "execution_count": 2,
   "metadata": {
    "collapsed": false
   },
   "outputs": [],
   "source": [
    "#section = gp.read_file('Chattanooga, TN City Council Maps.kml')"
   ]
  },
  {
   "cell_type": "code",
   "execution_count": 4,
   "metadata": {
    "collapsed": false
   },
   "outputs": [
    {
     "ename": "DriverError",
     "evalue": "unsupported driver: 'KML'",
     "output_type": "error",
     "traceback": [
      "\u001b[0;31m---------------------------------------------------------------------------\u001b[0m",
      "\u001b[0;31mDriverError\u001b[0m                               Traceback (most recent call last)",
      "\u001b[0;32m<ipython-input-4-0b9992fea497>\u001b[0m in \u001b[0;36m<module>\u001b[0;34m()\u001b[0m\n\u001b[0;32m----> 1\u001b[0;31m \u001b[0msection\u001b[0m \u001b[1;33m=\u001b[0m \u001b[0mgp\u001b[0m\u001b[1;33m.\u001b[0m\u001b[0mGeoDataFrame\u001b[0m\u001b[1;33m.\u001b[0m\u001b[0mfrom_file\u001b[0m\u001b[1;33m(\u001b[0m\u001b[1;34m'chbb/Chattanooga, TN City Council Maps.kml'\u001b[0m\u001b[1;33m)\u001b[0m\u001b[1;33m\u001b[0m\u001b[0m\n\u001b[0m",
      "\u001b[0;32mC:\\Users\\Kevin\\Anaconda3\\lib\\site-packages\\geopandas\\geodataframe.py\u001b[0m in \u001b[0;36mfrom_file\u001b[0;34m(cls, filename, **kwargs)\u001b[0m\n\u001b[1;32m    173\u001b[0m \u001b[1;33m\u001b[0m\u001b[0m\n\u001b[1;32m    174\u001b[0m         \"\"\"\n\u001b[0;32m--> 175\u001b[0;31m         \u001b[1;32mreturn\u001b[0m \u001b[0mgeopandas\u001b[0m\u001b[1;33m.\u001b[0m\u001b[0mio\u001b[0m\u001b[1;33m.\u001b[0m\u001b[0mfile\u001b[0m\u001b[1;33m.\u001b[0m\u001b[0mread_file\u001b[0m\u001b[1;33m(\u001b[0m\u001b[0mfilename\u001b[0m\u001b[1;33m,\u001b[0m \u001b[1;33m**\u001b[0m\u001b[0mkwargs\u001b[0m\u001b[1;33m)\u001b[0m\u001b[1;33m\u001b[0m\u001b[0m\n\u001b[0m\u001b[1;32m    176\u001b[0m \u001b[1;33m\u001b[0m\u001b[0m\n\u001b[1;32m    177\u001b[0m     \u001b[1;33m@\u001b[0m\u001b[0mclassmethod\u001b[0m\u001b[1;33m\u001b[0m\u001b[0m\n",
      "\u001b[0;32mC:\\Users\\Kevin\\Anaconda3\\lib\\site-packages\\geopandas\\io\\file.py\u001b[0m in \u001b[0;36mread_file\u001b[0;34m(filename, **kwargs)\u001b[0m\n\u001b[1;32m     19\u001b[0m     \"\"\"\n\u001b[1;32m     20\u001b[0m     \u001b[0mbbox\u001b[0m \u001b[1;33m=\u001b[0m \u001b[0mkwargs\u001b[0m\u001b[1;33m.\u001b[0m\u001b[0mpop\u001b[0m\u001b[1;33m(\u001b[0m\u001b[1;34m'bbox'\u001b[0m\u001b[1;33m,\u001b[0m \u001b[1;32mNone\u001b[0m\u001b[1;33m)\u001b[0m\u001b[1;33m\u001b[0m\u001b[0m\n\u001b[0;32m---> 21\u001b[0;31m     \u001b[1;32mwith\u001b[0m \u001b[0mfiona\u001b[0m\u001b[1;33m.\u001b[0m\u001b[0mopen\u001b[0m\u001b[1;33m(\u001b[0m\u001b[0mfilename\u001b[0m\u001b[1;33m,\u001b[0m \u001b[1;33m**\u001b[0m\u001b[0mkwargs\u001b[0m\u001b[1;33m)\u001b[0m \u001b[1;32mas\u001b[0m \u001b[0mf\u001b[0m\u001b[1;33m:\u001b[0m\u001b[1;33m\u001b[0m\u001b[0m\n\u001b[0m\u001b[1;32m     22\u001b[0m         \u001b[0mcrs\u001b[0m \u001b[1;33m=\u001b[0m \u001b[0mf\u001b[0m\u001b[1;33m.\u001b[0m\u001b[0mcrs\u001b[0m\u001b[1;33m\u001b[0m\u001b[0m\n\u001b[1;32m     23\u001b[0m         \u001b[1;32mif\u001b[0m \u001b[0mbbox\u001b[0m \u001b[1;32mis\u001b[0m \u001b[1;32mnot\u001b[0m \u001b[1;32mNone\u001b[0m\u001b[1;33m:\u001b[0m\u001b[1;33m\u001b[0m\u001b[0m\n",
      "\u001b[0;32mC:\\Users\\Kevin\\Anaconda3\\lib\\site-packages\\fiona\\__init__.py\u001b[0m in \u001b[0;36mopen\u001b[0;34m(path, mode, driver, schema, crs, encoding, layer, vfs, enabled_drivers, crs_wkt)\u001b[0m\n\u001b[1;32m    167\u001b[0m         c = Collection(path, mode, driver=driver, encoding=encoding,\n\u001b[1;32m    168\u001b[0m                        \u001b[0mlayer\u001b[0m\u001b[1;33m=\u001b[0m\u001b[0mlayer\u001b[0m\u001b[1;33m,\u001b[0m \u001b[0mvsi\u001b[0m\u001b[1;33m=\u001b[0m\u001b[0mvsi\u001b[0m\u001b[1;33m,\u001b[0m \u001b[0marchive\u001b[0m\u001b[1;33m=\u001b[0m\u001b[0marchive\u001b[0m\u001b[1;33m,\u001b[0m\u001b[1;33m\u001b[0m\u001b[0m\n\u001b[0;32m--> 169\u001b[0;31m                        enabled_drivers=enabled_drivers)\n\u001b[0m\u001b[1;32m    170\u001b[0m     \u001b[1;32melif\u001b[0m \u001b[0mmode\u001b[0m \u001b[1;33m==\u001b[0m \u001b[1;34m'w'\u001b[0m\u001b[1;33m:\u001b[0m\u001b[1;33m\u001b[0m\u001b[0m\n\u001b[1;32m    171\u001b[0m         \u001b[1;32mif\u001b[0m \u001b[0mschema\u001b[0m\u001b[1;33m:\u001b[0m\u001b[1;33m\u001b[0m\u001b[0m\n",
      "\u001b[0;32mC:\\Users\\Kevin\\Anaconda3\\lib\\site-packages\\fiona\\collection.py\u001b[0m in \u001b[0;36m__init__\u001b[0;34m(self, path, mode, driver, schema, crs, encoding, layer, vsi, archive, enabled_drivers, crs_wkt, **kwargs)\u001b[0m\n\u001b[1;32m    160\u001b[0m \u001b[1;33m\u001b[0m\u001b[0m\n\u001b[1;32m    161\u001b[0m         \u001b[1;32mif\u001b[0m \u001b[0mself\u001b[0m\u001b[1;33m.\u001b[0m\u001b[0msession\u001b[0m\u001b[1;33m:\u001b[0m\u001b[1;33m\u001b[0m\u001b[0m\n\u001b[0;32m--> 162\u001b[0;31m             \u001b[0mself\u001b[0m\u001b[1;33m.\u001b[0m\u001b[0mguard_driver_mode\u001b[0m\u001b[1;33m(\u001b[0m\u001b[1;33m)\u001b[0m\u001b[1;33m\u001b[0m\u001b[0m\n\u001b[0m\u001b[1;32m    163\u001b[0m \u001b[1;33m\u001b[0m\u001b[0m\n\u001b[1;32m    164\u001b[0m     \u001b[1;32mdef\u001b[0m \u001b[0m__repr__\u001b[0m\u001b[1;33m(\u001b[0m\u001b[0mself\u001b[0m\u001b[1;33m)\u001b[0m\u001b[1;33m:\u001b[0m\u001b[1;33m\u001b[0m\u001b[0m\n",
      "\u001b[0;32mC:\\Users\\Kevin\\Anaconda3\\lib\\site-packages\\fiona\\collection.py\u001b[0m in \u001b[0;36mguard_driver_mode\u001b[0;34m(self)\u001b[0m\n\u001b[1;32m    172\u001b[0m         \u001b[0mdriver\u001b[0m \u001b[1;33m=\u001b[0m \u001b[0mself\u001b[0m\u001b[1;33m.\u001b[0m\u001b[0msession\u001b[0m\u001b[1;33m.\u001b[0m\u001b[0mget_driver\u001b[0m\u001b[1;33m(\u001b[0m\u001b[1;33m)\u001b[0m\u001b[1;33m\u001b[0m\u001b[0m\n\u001b[1;32m    173\u001b[0m         \u001b[1;32mif\u001b[0m \u001b[0mdriver\u001b[0m \u001b[1;32mnot\u001b[0m \u001b[1;32min\u001b[0m \u001b[0msupported_drivers\u001b[0m\u001b[1;33m:\u001b[0m\u001b[1;33m\u001b[0m\u001b[0m\n\u001b[0;32m--> 174\u001b[0;31m             \u001b[1;32mraise\u001b[0m \u001b[0mDriverError\u001b[0m\u001b[1;33m(\u001b[0m\u001b[1;34m\"unsupported driver: %r\"\u001b[0m \u001b[1;33m%\u001b[0m \u001b[0mdriver\u001b[0m\u001b[1;33m)\u001b[0m\u001b[1;33m\u001b[0m\u001b[0m\n\u001b[0m\u001b[1;32m    175\u001b[0m         \u001b[1;32mif\u001b[0m \u001b[0mself\u001b[0m\u001b[1;33m.\u001b[0m\u001b[0mmode\u001b[0m \u001b[1;32mnot\u001b[0m \u001b[1;32min\u001b[0m \u001b[0msupported_drivers\u001b[0m\u001b[1;33m[\u001b[0m\u001b[0mdriver\u001b[0m\u001b[1;33m]\u001b[0m\u001b[1;33m:\u001b[0m\u001b[1;33m\u001b[0m\u001b[0m\n\u001b[1;32m    176\u001b[0m             \u001b[1;32mraise\u001b[0m \u001b[0mDriverError\u001b[0m\u001b[1;33m(\u001b[0m\u001b[1;34m\"unsupported mode: %r\"\u001b[0m \u001b[1;33m%\u001b[0m \u001b[0mself\u001b[0m\u001b[1;33m.\u001b[0m\u001b[0mmode\u001b[0m\u001b[1;33m)\u001b[0m\u001b[1;33m\u001b[0m\u001b[0m\n",
      "\u001b[0;31mDriverError\u001b[0m: unsupported driver: 'KML'"
     ]
    }
   ],
   "source": [
    "section = gp.GeoDataFrame.from_file('chbb/Chattanooga, TN City Council Maps.kml')"
   ]
  },
  {
   "cell_type": "code",
   "execution_count": 5,
   "metadata": {
    "collapsed": false
   },
   "outputs": [],
   "source": [
    "endpoint_url = 'https://data.chattlibrary.org/resource/sahz-tkbn.json'\n",
    "response = requests.get(endpoint_url)\n",
    "data = json.loads(response.text)"
   ]
  },
  {
   "cell_type": "code",
   "execution_count": 7,
   "metadata": {
    "collapsed": false
   },
   "outputs": [
    {
     "data": {
      "text/html": [
       "<div>\n",
       "<table border=\"1\" class=\"dataframe\">\n",
       "  <thead>\n",
       "    <tr style=\"text-align: right;\">\n",
       "      <th></th>\n",
       "      <th>MemberType</th>\n",
       "      <th>TripDurationSec</th>\n",
       "      <th>BikeID</th>\n",
       "      <th>StartDay</th>\n",
       "      <th>StartDateTime</th>\n",
       "      <th>StartDate</th>\n",
       "      <th>StartTime</th>\n",
       "      <th>StartStationName</th>\n",
       "      <th>StartStationID</th>\n",
       "      <th>EndDay</th>\n",
       "      <th>EndDateTime</th>\n",
       "      <th>EndDate</th>\n",
       "      <th>EndTime</th>\n",
       "      <th>EndStationName</th>\n",
       "      <th>EndStationID</th>\n",
       "    </tr>\n",
       "  </thead>\n",
       "  <tbody>\n",
       "    <tr>\n",
       "      <th>0</th>\n",
       "      <td>Subscriber</td>\n",
       "      <td>235.0</td>\n",
       "      <td>C00198</td>\n",
       "      <td>Tuesday</td>\n",
       "      <td>11/27/2012 17:17</td>\n",
       "      <td>11/27/2012</td>\n",
       "      <td>17:17</td>\n",
       "      <td>Market St &amp; ML King Blvd</td>\n",
       "      <td>1325.0</td>\n",
       "      <td>Tuesday</td>\n",
       "      <td>11/27/2012 17:21</td>\n",
       "      <td>11/27/2012</td>\n",
       "      <td>17:21</td>\n",
       "      <td>Market St &amp; Cowart St</td>\n",
       "      <td>1311.0</td>\n",
       "    </tr>\n",
       "    <tr>\n",
       "      <th>1</th>\n",
       "      <td>Subscriber</td>\n",
       "      <td>101.0</td>\n",
       "      <td>C00156</td>\n",
       "      <td>Tuesday</td>\n",
       "      <td>12/11/2012 16:10</td>\n",
       "      <td>12/11/2012</td>\n",
       "      <td>16:10</td>\n",
       "      <td>Market St &amp; ML King Blvd</td>\n",
       "      <td>1325.0</td>\n",
       "      <td>Tuesday</td>\n",
       "      <td>12/11/2012 16:12</td>\n",
       "      <td>12/11/2012</td>\n",
       "      <td>16:12</td>\n",
       "      <td>Market St &amp; W 12th St</td>\n",
       "      <td>1309.0</td>\n",
       "    </tr>\n",
       "    <tr>\n",
       "      <th>2</th>\n",
       "      <td>Subscriber</td>\n",
       "      <td>478.0</td>\n",
       "      <td>C00092</td>\n",
       "      <td>Wednesday</td>\n",
       "      <td>11/21/2012 16:17</td>\n",
       "      <td>11/21/2012</td>\n",
       "      <td>16:17</td>\n",
       "      <td>100 Walnut St</td>\n",
       "      <td>1319.0</td>\n",
       "      <td>Wednesday</td>\n",
       "      <td>11/21/2012 16:25</td>\n",
       "      <td>11/21/2012</td>\n",
       "      <td>16:25</td>\n",
       "      <td>200 River St Outdoor Chattanooga</td>\n",
       "      <td>1299.0</td>\n",
       "    </tr>\n",
       "    <tr>\n",
       "      <th>3</th>\n",
       "      <td>Customer</td>\n",
       "      <td>2399.0</td>\n",
       "      <td>C00061</td>\n",
       "      <td>Friday</td>\n",
       "      <td>11/23/2012 0:39</td>\n",
       "      <td>11/23/2012</td>\n",
       "      <td>0:39</td>\n",
       "      <td>215 Broad St</td>\n",
       "      <td>1303.0</td>\n",
       "      <td>Friday</td>\n",
       "      <td>11/23/2012 1:19</td>\n",
       "      <td>11/23/2012</td>\n",
       "      <td>1:19</td>\n",
       "      <td>215 Broad St</td>\n",
       "      <td>1303.0</td>\n",
       "    </tr>\n",
       "    <tr>\n",
       "      <th>4</th>\n",
       "      <td>Customer</td>\n",
       "      <td>3412.0</td>\n",
       "      <td>C00030</td>\n",
       "      <td>Saturday</td>\n",
       "      <td>12/8/2012 19:49</td>\n",
       "      <td>12/8/2012</td>\n",
       "      <td>19:49</td>\n",
       "      <td>High St &amp; E 2nd St</td>\n",
       "      <td>1321.0</td>\n",
       "      <td>Saturday</td>\n",
       "      <td>12/8/2012 20:46</td>\n",
       "      <td>12/8/2012</td>\n",
       "      <td>20:46</td>\n",
       "      <td>High St &amp; E 2nd St</td>\n",
       "      <td>1321.0</td>\n",
       "    </tr>\n",
       "  </tbody>\n",
       "</table>\n",
       "</div>"
      ],
      "text/plain": [
       "   MemberType  TripDurationSec  BikeID   StartDay     StartDateTime  \\\n",
       "0  Subscriber            235.0  C00198    Tuesday  11/27/2012 17:17   \n",
       "1  Subscriber            101.0  C00156    Tuesday  12/11/2012 16:10   \n",
       "2  Subscriber            478.0  C00092  Wednesday  11/21/2012 16:17   \n",
       "3    Customer           2399.0  C00061     Friday   11/23/2012 0:39   \n",
       "4    Customer           3412.0  C00030   Saturday   12/8/2012 19:49   \n",
       "\n",
       "    StartDate StartTime          StartStationName  StartStationID     EndDay  \\\n",
       "0  11/27/2012     17:17  Market St & ML King Blvd          1325.0    Tuesday   \n",
       "1  12/11/2012     16:10  Market St & ML King Blvd          1325.0    Tuesday   \n",
       "2  11/21/2012     16:17             100 Walnut St          1319.0  Wednesday   \n",
       "3  11/23/2012      0:39              215 Broad St          1303.0     Friday   \n",
       "4   12/8/2012     19:49        High St & E 2nd St          1321.0   Saturday   \n",
       "\n",
       "        EndDateTime     EndDate EndTime                    EndStationName  \\\n",
       "0  11/27/2012 17:21  11/27/2012   17:21             Market St & Cowart St   \n",
       "1  12/11/2012 16:12  12/11/2012   16:12             Market St & W 12th St   \n",
       "2  11/21/2012 16:25  11/21/2012   16:25  200 River St Outdoor Chattanooga   \n",
       "3   11/23/2012 1:19  11/23/2012    1:19                      215 Broad St   \n",
       "4   12/8/2012 20:46   12/8/2012   20:46                High St & E 2nd St   \n",
       "\n",
       "   EndStationID  \n",
       "0        1311.0  \n",
       "1        1309.0  \n",
       "2        1299.0  \n",
       "3        1303.0  \n",
       "4        1321.0  "
      ]
     },
     "execution_count": 7,
     "metadata": {},
     "output_type": "execute_result"
    }
   ],
   "source": [
    "data = pd.read_csv('BCTD.csv')\n",
    "data.head()"
   ]
  },
  {
   "cell_type": "code",
   "execution_count": null,
   "metadata": {
    "collapsed": false
   },
   "outputs": [],
   "source": []
  },
  {
   "cell_type": "code",
   "execution_count": null,
   "metadata": {
    "collapsed": false
   },
   "outputs": [],
   "source": []
  },
  {
   "cell_type": "code",
   "execution_count": null,
   "metadata": {
    "collapsed": true
   },
   "outputs": [],
   "source": []
  }
 ],
 "metadata": {
  "anaconda-cloud": {},
  "kernelspec": {
   "display_name": "Python [default]",
   "language": "python",
   "name": "python3"
  },
  "language_info": {
   "codemirror_mode": {
    "name": "ipython",
    "version": 3
   },
   "file_extension": ".py",
   "mimetype": "text/x-python",
   "name": "python",
   "nbconvert_exporter": "python",
   "pygments_lexer": "ipython3",
   "version": "3.5.2"
  }
 },
 "nbformat": 4,
 "nbformat_minor": 1
}
